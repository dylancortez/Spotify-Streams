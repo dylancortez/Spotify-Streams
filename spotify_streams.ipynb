{
 "cells": [
  {
   "attachments": {},
   "cell_type": "markdown",
   "metadata": {},
   "source": [
    "# Spotify Streaming Numbers\n",
    "Spotify is one of the leading music streaming services on the Internet, along with YouTube Music and Apple Music. In this notebook we will be looking at a dataset of the top 10,000 streamed songs on the platform."
   ]
  },
  {
   "cell_type": "code",
   "execution_count": 6,
   "metadata": {},
   "outputs": [
    {
     "name": "stdout",
     "output_type": "stream",
     "text": [
      "   Position    Artist Name                                   Song Name  Days  \\\n",
      "0         1   Post Malone   Sunflower  SpiderMan: Into the SpiderVerse  1506   \n",
      "1         2    Juice WRLD                                 Lucid Dreams  1673   \n",
      "2         3  Lil Uzi Vert                                XO TOUR Llif3  1853   \n",
      "3         4       J. Cole                               No Role Modelz  2547   \n",
      "4         5   Post Malone                                     rockstar  1223   \n",
      "5         6  Travis Scott                                   goosebumps  1995   \n",
      "6         7    The Weeknd                              Blinding Lights  1100   \n",
      "7         8  XXXTENTACION                               Jocelyn Flores  1673   \n",
      "8         9  XXXTENTACION                                         SAD!  1217   \n",
      "9        10    Juice WRLD                       All Girls Are The Same  1681   \n",
      "\n",
      "   Top 10 (xTimes)  Peak Position Peak Position (xTimes)  Peak Streams  \\\n",
      "0            302.0              1                  (x29)       2118242   \n",
      "1            178.0              1                  (x20)       2127668   \n",
      "2            212.0              1                   (x4)       1660502   \n",
      "3              6.0              7                      0        659366   \n",
      "4            186.0              1                 (x124)       2905678   \n",
      "5              4.0              8                      0        977275   \n",
      "6            233.0              1                  (x11)       2355059   \n",
      "7             44.0              2                   (x1)       3175206   \n",
      "8            133.0              1                   (x6)       4437612   \n",
      "9              2.0              5                      0       1239152   \n",
      "\n",
      "   Total Streams  \n",
      "0      883369738  \n",
      "1      864832399  \n",
      "2      781153024  \n",
      "3      734857487  \n",
      "4      718865961  \n",
      "5      672972704  \n",
      "6      644287953  \n",
      "7      624457164  \n",
      "8      619879245  \n",
      "9      613872384  \n"
     ]
    }
   ],
   "source": [
    "import pandas as pd\n",
    "import matplotlib.pyplot as plt\n",
    "import numpy as np\n",
    "import seaborn as sns\n",
    "from scipy.stats import pearsonr\n",
    "\n",
    "#Now that we've imported the necessary packages, we can import the data to take a look\n",
    "df = pd.read_csv('Spotify_final_dataset.csv')\n",
    "print(df.head(10))"
   ]
  },
  {
   "cell_type": "code",
   "execution_count": 3,
   "metadata": {},
   "outputs": [
    {
     "name": "stdout",
     "output_type": "stream",
     "text": [
      "           Position          Days  Top 10 (xTimes)  Peak Position  \\\n",
      "count  11084.000000  11084.000000     11084.000000   11084.000000   \n",
      "mean    5542.500000     53.366925         2.713641      83.070101   \n",
      "std     3199.819526    129.750902        15.604130      58.932049   \n",
      "min        1.000000      1.000000         0.000000       1.000000   \n",
      "25%     2771.750000      2.000000         0.000000      29.000000   \n",
      "50%     5542.500000      7.000000         0.000000      75.000000   \n",
      "75%     8313.250000     39.000000         0.000000     132.000000   \n",
      "max    11084.000000   2547.000000       302.000000     200.000000   \n",
      "\n",
      "       Peak Streams  Total Streams  \n",
      "count  1.108400e+04   1.108400e+04  \n",
      "mean   5.529469e+05   1.830891e+07  \n",
      "std    6.282936e+05   5.219383e+07  \n",
      "min    4.432300e+04   4.432300e+04  \n",
      "25%    2.431595e+05   3.824272e+05  \n",
      "50%    3.505885e+05   1.704876e+06  \n",
      "75%    5.963382e+05   1.078333e+07  \n",
      "max    7.786096e+06   8.833697e+08  \n"
     ]
    }
   ],
   "source": [
    "print(df.describe())"
   ]
  }
 ],
 "metadata": {
  "kernelspec": {
   "display_name": "Python 3",
   "language": "python",
   "name": "python3"
  },
  "language_info": {
   "codemirror_mode": {
    "name": "ipython",
    "version": 3
   },
   "file_extension": ".py",
   "mimetype": "text/x-python",
   "name": "python",
   "nbconvert_exporter": "python",
   "pygments_lexer": "ipython3",
   "version": "3.11.1 (tags/v3.11.1:a7a450f, Dec  6 2022, 19:58:39) [MSC v.1934 64 bit (AMD64)]"
  },
  "orig_nbformat": 4,
  "vscode": {
   "interpreter": {
    "hash": "841b185554555ca1ca178be24c38857c2b72fe74f8a7d4209f77b3f65f0ea57b"
   }
  }
 },
 "nbformat": 4,
 "nbformat_minor": 2
}
